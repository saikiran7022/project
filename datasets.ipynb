{
 "cells": [
  {
   "cell_type": "code",
   "execution_count": 20,
   "metadata": {},
   "outputs": [],
   "source": [
    "import pandas as pd\n",
    "import numpy as np\n",
    "import seaborn as sns"
   ]
  },
  {
   "cell_type": "code",
   "execution_count": 21,
   "metadata": {},
   "outputs": [
    {
     "data": {
      "text/plain": [
       "pandas.core.frame.DataFrame"
      ]
     },
     "execution_count": 21,
     "metadata": {},
     "output_type": "execute_result"
    }
   ],
   "source": [
    "df = pd.read_csv(\"deliveries.csv\",squeeze = True)\n",
    "type(df)"
   ]
  },
  {
   "cell_type": "code",
   "execution_count": 22,
   "metadata": {},
   "outputs": [],
   "source": [
    "df[\"batting_team\"]= df[\"batting_team\"].astype(\"str\")"
   ]
  },
  {
   "cell_type": "code",
   "execution_count": 23,
   "metadata": {
    "scrolled": true
   },
   "outputs": [],
   "source": [
    "k = df[\"batsman_runs\"]==7"
   ]
  },
  {
   "cell_type": "markdown",
   "metadata": {},
   "source": [
    "best bowlers"
   ]
  },
  {
   "cell_type": "code",
   "execution_count": 24,
   "metadata": {
    "collapsed": true
   },
   "outputs": [
    {
     "data": {
      "text/plain": [
       "SL Malinga           170\n",
       "A Mishra             156\n",
       "Harbhajan Singh      150\n",
       "PP Chawla            149\n",
       "DJ Bravo             147\n",
       "B Kumar              133\n",
       "R Ashwin             125\n",
       "SP Narine            122\n",
       "UT Yadav             119\n",
       "RA Jadeja            108\n",
       "A Nehra              106\n",
       "R Vinay Kumar        105\n",
       "Z Khan               103\n",
       "YS Chahal            100\n",
       "DW Steyn              96\n",
       "SR Watson             92\n",
       "MM Sharma             91\n",
       "P Kumar               90\n",
       "RP Singh              90\n",
       "PP Ojha               89\n",
       "DS Kulkarni           86\n",
       "JA Morkel             85\n",
       "Sandeep Sharma        83\n",
       "JJ Bumrah             82\n",
       "IK Pathan             80\n",
       "Imran Tahir           79\n",
       "JD Unadkat            78\n",
       "M Morkel              77\n",
       "L Balaji              76\n",
       "MM Patel              74\n",
       "                    ... \n",
       "RG More                1\n",
       "DB Ravi Teja           1\n",
       "JDS Neesham            1\n",
       "SS Sarkar              1\n",
       "MJ Henry               1\n",
       "Harmeet Singh (2)      1\n",
       "GR Napier              1\n",
       "GS Sandhu              1\n",
       "Swapnil Singh          1\n",
       "LMP Simmons            1\n",
       "S Rutherford           1\n",
       "CJ McKay               1\n",
       "AJ Finch               1\n",
       "LA Carseldine          1\n",
       "A Roy                  1\n",
       "S Vidyut               1\n",
       "AA Jhunjhunwala        1\n",
       "AM Rahane              1\n",
       "V Chakravarthy         1\n",
       "B Geeves               1\n",
       "BMAJ Mendis            1\n",
       "SS Mundhe              1\n",
       "T Henderson            1\n",
       "PM Sarvesh Kumar       1\n",
       "CL White               1\n",
       "TP Sudhindra           1\n",
       "SS Agarwal             1\n",
       "AA Noffke              1\n",
       "GH Vihari              1\n",
       "AC Gilchrist           1\n",
       "Name: bowler, Length: 348, dtype: int64"
      ]
     },
     "execution_count": 24,
     "metadata": {},
     "output_type": "execute_result"
    }
   ],
   "source": [
    "mask = df[df[\"dismissal_kind\"].notnull()]\n",
    "mask1 = mask[\"dismissal_kind\"] != \"run out\"\n",
    "l = mask[mask1]\n",
    "k = l[\"bowler\"]\n",
    "m = pd.value_counts(k)\n",
    "m"
   ]
  },
  {
   "cell_type": "code",
   "execution_count": null,
   "metadata": {},
   "outputs": [],
   "source": []
  },
  {
   "cell_type": "code",
   "execution_count": null,
   "metadata": {},
   "outputs": [],
   "source": []
  },
  {
   "cell_type": "markdown",
   "metadata": {},
   "source": [
    "top 20 batsmen"
   ]
  },
  {
   "cell_type": "code",
   "execution_count": 69,
   "metadata": {},
   "outputs": [],
   "source": [
    "for i in range(len(df['batsman_runs'])):\n",
    "    if df[\"batsman_runs\"][i] == 7:\n",
    "        print(i)\n",
    "        df['batsman_runs'][i] = 6"
   ]
  },
  {
   "cell_type": "code",
   "execution_count": 70,
   "metadata": {},
   "outputs": [
    {
     "data": {
      "text/plain": [
       "V Kohli           4211\n",
       "SK Raina          4044\n",
       "RG Sharma         3816\n",
       "S Dhawan          3776\n",
       "G Gambhir         3524\n",
       "RV Uthappa        3492\n",
       "DA Warner         3398\n",
       "MS Dhoni          3318\n",
       "AM Rahane         3215\n",
       "CH Gayle          3131\n",
       "AB de Villiers    2977\n",
       "KD Karthik        2890\n",
       "AT Rayudu         2681\n",
       "SR Watson         2639\n",
       "PA Patel          2444\n",
       "MK Pandey         2425\n",
       "YK Pathan         2334\n",
       "JH Kallis         2291\n",
       "BB McCullum       2272\n",
       "Yuvraj Singh      2207\n",
       "Name: batsman, dtype: int64"
      ]
     },
     "execution_count": 70,
     "metadata": {},
     "output_type": "execute_result"
    }
   ],
   "source": [
    "k = df[\"batsman\"]\n",
    "m = pd.value_counts(k)\n",
    "m.head(20)"
   ]
  },
  {
   "cell_type": "code",
   "execution_count": 67,
   "metadata": {},
   "outputs": [],
   "source": []
  }
 ],
 "metadata": {
  "kernelspec": {
   "display_name": "Python 3",
   "language": "python",
   "name": "python3"
  },
  "language_info": {
   "codemirror_mode": {
    "name": "ipython",
    "version": 3
   },
   "file_extension": ".py",
   "mimetype": "text/x-python",
   "name": "python",
   "nbconvert_exporter": "python",
   "pygments_lexer": "ipython3",
   "version": "3.7.1"
  }
 },
 "nbformat": 4,
 "nbformat_minor": 2
}
