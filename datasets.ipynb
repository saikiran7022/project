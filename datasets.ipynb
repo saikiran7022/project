{
 "cells": [
  {
   "cell_type": "code",
   "execution_count": 20,
   "metadata": {},
   "outputs": [],
   "source": [
    "import pandas as pd\n",
    "import numpy as np\n",
    "import seaborn as sns\n",
    "import matplotlib.pyplot as plt\n",
    "\n"
   ]
  },
  {
   "cell_type": "code",
   "execution_count": 21,
   "metadata": {},
   "outputs": [
    {
     "data": {
      "text/plain": [
       "pandas.core.frame.DataFrame"
      ]
     },
     "execution_count": 21,
     "metadata": {},
     "output_type": "execute_result"
    }
   ],
   "source": [
    "df = pd.read_csv(\"deliveries.csv\",squeeze = True)\n",
    "type(df)"
   ]
  },
  {
   "cell_type": "code",
   "execution_count": 22,
   "metadata": {},
   "outputs": [],
   "source": [
    "df[\"batting_team\"]= df[\"batting_team\"].astype(\"str\")"
   ]
  },
  {
   "cell_type": "code",
   "execution_count": 76,
   "metadata": {
    "scrolled": true
   },
   "outputs": [
    {
     "name": "stdout",
     "output_type": "stream",
     "text": [
      "welcome to ipl stats\n",
      "enter your preferenece please\n",
      "                1) best bowlers\n",
      "                2) best batsman \n",
      "                3) man of the match awards\n",
      "                4)most 6's\n",
      "                5)most 4's\n",
      "                6)bowling rate\n",
      "6\n"
     ]
    }
   ],
   "source": [
    "print(\"welcome to ipl stats\")\n",
    "inp = int(input(\"\"\"enter your preferenece please\n",
    "                1) best bowlers\n",
    "                2) best batsman \n",
    "                3) man of the match awards\n",
    "                4)most 6's\n",
    "                5)most 4's\n",
    "                6)bowling rate\\n\"\"\"))"
   ]
  },
  {
   "cell_type": "code",
   "execution_count": null,
   "metadata": {},
   "outputs": [],
   "source": []
  },
  {
   "cell_type": "markdown",
   "metadata": {},
   "source": [
    "best bowlers"
   ]
  },
  {
   "cell_type": "code",
   "execution_count": 77,
   "metadata": {
    "scrolled": true
   },
   "outputs": [
    {
     "data": {
      "image/png": "[encoded data removed]",
      "text/plain": [
       "<Figure size 576x288 with 1 Axes>"
      ]
     },
     "metadata": {
      "needs_background": "light"
     },
     "output_type": "display_data"
    }
   ],
   "source": [
    "def switch():\n",
    "    def bb():\n",
    "                    mask = df[df[\"dismissal_kind\"].notnull()]\n",
    "                    mask1 = mask[\"dismissal_kind\"] != \"run out\"\n",
    "                    k = df[\"batsman_runs\"]==7\n",
    "                    l = mask[mask1]\n",
    "                    k = l[\"bowler\"]\n",
    "                    m = pd.value_counts(k).reset_index().head(20)\n",
    "                    m.columns = [\"bowler\",\"wickets\"]\n",
    "                    sns.catplot(x=\"bowler\",y=\"wickets\",data = m,kind = \"bar\", aspect=11.7/8.27,size =10)\n",
    "                    plt.xticks(rotation = 70)\n",
    "                    plt.show(),\n",
    "           \n",
    "    def bm():   \n",
    "            for i in range(len(df['batsman_runs'])):\n",
    "                if df[\"batsman_runs\"][i] == 7:\n",
    "                    print(i)\n",
    "                    df['batsman_runs'][i] = 6\n",
    "            k = df[\"batsman\"]\n",
    "            m = pd.value_counts(k) \n",
    "            j = m.head(15).reset_index()\n",
    "            j.columns = [\"batsman\",\"runs\"]\n",
    "            ik = sns.lineplot(\"batsman\",\"runs\",data = j,color = \"g\")\n",
    "            plt.title(\"top 20 batsmans\")\n",
    "            plt.xticks(rotation = 70)\n",
    "            plt.show(),\n",
    "           \n",
    "    def mm(): \n",
    "                    df1 = pd.read_csv(\"matches.csv\")\n",
    "                    o=df1[\"player_of_match\"].value_counts().head(10).reset_index()\n",
    "                    o.columns = [\"batsmans\",\"no of times\"]\n",
    "                    sns.catplot(\"batsmans\",\"no of times\",data = o,height=8.27,kind = \"bar\", aspect=11.7/8.27)\n",
    "                    sns.grid = \"white\"\n",
    "                    plt.title(\"man of the match\")\n",
    "                    plt.xticks(rotation = 70)\n",
    "                    plt.show()\n",
    "           \n",
    "    def ms(): \n",
    "                    df2 = pd.read_csv(\"deliveries.csv\")\n",
    "                    lst = list()\n",
    "                    for i in range(len(df2[\"batsman_runs\"])):\n",
    "                        if df2[\"batsman_runs\"][i] == 6:\n",
    "\n",
    "                                p = df2[\"batsman\"][i]\n",
    "                                for j in range(len(df2[\"batsman\"][i])):\n",
    "                                            lst.append(p),\n",
    "\n",
    "\n",
    "                    i=pd.value_counts(lst).head(20).reset_index()\n",
    "                    i.columns = [\"batsman\",\"runs\"]\n",
    "                    sns.catplot(\"batsman\",\"runs\",data = i,kind = \"bar\", height=8.27, aspect=11.7/8.27)\n",
    "                    plt.title(\"most no of 6's\")\n",
    "                    plt.xticks(rotation = 70)\n",
    "                    plt.show()\n",
    "    def mf():\n",
    "                    df2 = pd.read_csv(\"deliveries.csv\")\n",
    "                    lst = list()\n",
    "                    for i in range(len(df2[\"batsman_runs\"])):\n",
    "                        if df2[\"batsman_runs\"][i] == 4:\n",
    "\n",
    "                                p = df2[\"batsman\"][i]\n",
    "                                for j in range(len(df2[\"batsman\"][i])):\n",
    "                                            lst.append(p)\n",
    "\n",
    "\n",
    "                    h=pd.value_counts(lst).head(10).reset_index()\n",
    "                    h.columns = [\"batsman\",\"runs\"]\n",
    "                    sns.barplot(\"batsman\",\"runs\",data = h)\n",
    "                    plt.title(\"most no of 4's\")\n",
    "                    plt.xticks(rotation = 70)\n",
    "                    plt.show(),\n",
    "           \n",
    "    def br():\n",
    "                    df3 = pd.read_csv(\"deliveries.csv\")\n",
    "                    k=df3[\"bowler\"].sort_values()\n",
    "                    no_of_balls=k.value_counts()\n",
    "                    dit1 = no_of_balls.sort_values()\n",
    "                    mask9 = df[df[\"dismissal_kind\"].notnull()]\n",
    "                    mask8 = mask9[\"dismissal_kind\"] != \"run out\"\n",
    "                    l = mask9[mask8]\n",
    "                    k1 = l[\"bowler\"]\n",
    "                    m = pd.value_counts(k1)\n",
    "                    dit2 = m.sort_values()\n",
    "                    k = dit1/dit2\n",
    "                    k.dropna()\n",
    "                    j = k.sort_values(ascending = True).head(10).reset_index()\n",
    "                    j.columns = [\"bowler\",\"strikerate\"]\n",
    "                    sns.catplot(\"bowler\",\"strikerate\",data = j,kind = \"bar\",aspect =8/4,height=4)\n",
    "                    plt.title(\"avarage bowler rate\")\n",
    "                    plt.xticks(rotation = 70)\n",
    "                    plt.show()\n",
    "\n",
    "    def default():\n",
    "           print(\"enter valid no\")\n",
    "                    \n",
    "    dict = {\n",
    "        \n",
    "        1:bb,\n",
    "        2:bm,\n",
    "        3:mm,\n",
    "        4:ms,\n",
    "        5:mf,\n",
    "        6:br,\n",
    "    }\n",
    "    \n",
    "    dict.get(inp,default)()\n",
    "switch()    "
   ]
  },
  {
   "cell_type": "code",
   "execution_count": null,
   "metadata": {},
   "outputs": [],
   "source": []
  },
  {
   "cell_type": "code",
   "execution_count": null,
   "metadata": {},
   "outputs": [],
   "source": []
  },
  {
   "cell_type": "code",
   "execution_count": null,
   "metadata": {},
   "outputs": [],
   "source": []
  },
  {
   "cell_type": "code",
   "execution_count": null,
   "metadata": {},
   "outputs": [],
   "source": []
  }
 ],
 "metadata": {
  "kernelspec": {
   "display_name": "Python 3",
   "language": "python",
   "name": "python3"
  },
  "language_info": {
   "codemirror_mode": {
    "name": "ipython",
    "version": 3
   },
   "file_extension": ".py",
   "mimetype": "text/x-python",
   "name": "python",
   "nbconvert_exporter": "python",
   "pygments_lexer": "ipython3",
   "version": "3.7.1"
  }
 },
 "nbformat": 4,
 "nbformat_minor": 2
}
